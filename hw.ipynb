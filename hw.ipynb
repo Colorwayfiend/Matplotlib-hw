{
 "cells": [
  {
   "cell_type": "code",
   "execution_count": null,
   "metadata": {
    "scrolled": true
   },
   "outputs": [],
   "source": [
    "%matplotlib inline\n",
    "# Dependencies and Setup\n",
    "import matplotlib.pyplot as plt\n",
    "import pandas as pd\n",
    "\n",
    "# File to Load (Remember to change these)\n",
    "city_data = \"data/city_data.csv\"\n",
    "ride_data = \"data/ride_data.csv\"\n",
    "\n",
    "# Read the City and Ride Data\n",
    "city_info = pd.read_csv(city_data)\n",
    "ride_info = pd.read_csv(ride_data)\n",
    "\n",
    "# Combine the data into a single dataset\n",
    "pyber_driver = pd.merge(city_info, ride_info, on='city')\n",
    "# Display the data table for preview\n",
    "pyber_driver.head(10)"
   ]
  },
  {
   "cell_type": "code",
   "execution_count": null,
   "metadata": {
    "scrolled": false
   },
   "outputs": [],
   "source": []
  },
  {
   "cell_type": "markdown",
   "metadata": {},
   "source": [
    "## Bubble Plot of Ride Sharing Data"
   ]
  },
  {
   "cell_type": "code",
   "execution_count": null,
   "metadata": {
    "scrolled": true
   },
   "outputs": [],
   "source": [
    "# Obtain the x and y coordinates for each of the three city types\n",
    "#Average fare all cities\n",
    "avg_fare = pyber_driver.groupby('city')['fare'].mean()\n",
    "avg_fare\n",
    "\n",
    "\n",
    "# Find the total rides per city and total drivers per city\n",
    "total_rides = pyber_driver.groupby('city')['ride_id'].count()\n",
    "# total_rides\n",
    "\n",
    "total_drivers = pyber_driver.groupby('city')['driver_count'].mean()\n",
    "# total_drivers\n",
    "\n",
    "city_type = city_info.set_index('city')['type']\n",
    "# city_type\n",
    "\n",
    "city_type.value_counts()\n",
    "\n",
    "pyber_driver_cities = pd.DataFrame({\"Average Fare/ City\": avg_fare,\n",
    "                                    \"Total Rides\": total_rides,\n",
    "                                    \"Total Drivers\": total_drivers,\n",
    "                                    \"City Type\": city_type})\n",
    "# pyber_driver_cities.head()\n",
    "\n",
    "#city types\n",
    "suburban = pyber_driver_cities.loc[pyber_driver_cities[\"City Type\"]== \"Suburban\"]\n",
    "urban = pyber_driver_cities.loc[pyber_driver_cities[\"City Type\"]== \"Urban\"]\n",
    "rural = pyber_driver_cities.loc[pyber_driver_cities[\"City Type\"]== \"Rural\"]\n",
    "\n",
    "# Build the scatter plots for each city types\n",
    "plt.scatter(urban[\"Total Rides\"], urban[\"Average Fare/ City\"], facecolor='gold', edgecolors='black', s =urban['Total Drivers']*20, label = \"Urban\", alpha =0.5, linewidth = 1.5)\n",
    "plt.scatter(suburban[\"Total Rides\"], suburban[\"Average Fare/ City\"], facecolor='skyblue', edgecolors='black', s =suburban['Total Drivers']*20, label = \"Suburban\", alpha =0.5, linewidth = 1.5)\n",
    "plt.scatter(rural[\"Total Rides\"], rural[\"Average Fare/ City\"], facecolor='coral', edgecolors='black', s =rural['Total Drivers']*20, label = \"Rural\", alpha =0.5, linewidth = 1.5)\n",
    "\n",
    "# Incorporate the other graph properties\n",
    "plt.title('Average Fare and Total Rides Per City')\n",
    "plt.xlabel('Total Rides Per City')\n",
    "plt.ylabel('Average Fare Per City')\n",
    "\n",
    "# Create a legend\n",
    "plt.legend(loc='best')\n",
    "plt.show()\n",
    "# Incorporate a text label regarding circle size\n",
    "\n",
    "# Save Figure\n"
   ]
  },
  {
   "cell_type": "code",
   "execution_count": null,
   "metadata": {
    "scrolled": true
   },
   "outputs": [],
   "source": [
    "# Show plot\n",
    "plt.show()"
   ]
  },
  {
   "cell_type": "markdown",
   "metadata": {},
   "source": [
    "## Total Fares by City Type"
   ]
  },
  {
   "cell_type": "code",
   "execution_count": null,
   "metadata": {
    "scrolled": true
   },
   "outputs": [],
   "source": [
    "# Calculate Type Percents\n",
    "type_perc = pyber_driver.groupby(['type'])['fare'].sum()\n",
    "# type_perc\n",
    "\n",
    "types = ['Rural', 'Suburban', 'Urban']\n",
    "colors = ['coral', 'skyblue', 'gold']\n",
    "explode = (0,0,0.1)\n",
    "plt.pie(type_perc, labels=types, autopct= '%1.2f%%', colors=colors, explode=explode, shadow=True, startangle=180)\n",
    "plt.axis('equal')\n",
    "plt.legend(loc = 'lower right')\n",
    "\n",
    "\n",
    "\n",
    "# Save Figure\n",
    "plt.savefig('../Images/Total Fares by City Type.png')\n",
    "plt.show()"
   ]
  },
  {
   "cell_type": "code",
   "execution_count": null,
   "metadata": {
    "scrolled": true
   },
   "outputs": [],
   "source": [
    "# Show Figure\n",
    "plt.show()"
   ]
  },
  {
   "cell_type": "markdown",
   "metadata": {},
   "source": [
    "## Total Rides by City Type"
   ]
  },
  {
   "cell_type": "code",
   "execution_count": null,
   "metadata": {
    "scrolled": true
   },
   "outputs": [],
   "source": [
    "# Calculate Ride Percents\n",
    "rides_perc = pyber_driver.groupby(['type'])['ride_id'].sum()\n",
    "# rides_perc\n",
    "\n",
    "# Build Pie Chart\n",
    "types = ['Rural', 'Suburban', 'Urban']\n",
    "rides_perc.index\n",
    "colors = ['coral', 'skyblue', 'gold']\n",
    "explode = (0,0,0.1)\n",
    "plt.pie(rides_perc, labels=types, autopct= '%1.2f%%', colors=colors, explode=explode, shadow=True, startangle=180)\n",
    "plt.axis('equal')\n",
    "plt.legend(loc = 'lower right')\n",
    "\n",
    "\n",
    "# Save Figure\n",
    "plt.savefig('../Images/Total Fares by City Type.png')\n",
    "plt.show()"
   ]
  },
  {
   "cell_type": "code",
   "execution_count": null,
   "metadata": {
    "scrolled": true
   },
   "outputs": [],
   "source": [
    "# Show Figure\n",
    "plt.show()"
   ]
  },
  {
   "cell_type": "markdown",
   "metadata": {},
   "source": [
    "## Total Drivers by City Type"
   ]
  },
  {
   "cell_type": "code",
   "execution_count": null,
   "metadata": {
    "scrolled": true
   },
   "outputs": [],
   "source": [
    "# Calculate Driver Percents\n",
    "driver_perc = pyber_driver.groupby(['type'])['driver_count'].mean()\n",
    "\n",
    "# Build Pie Charts\n",
    "types = ['Rural', 'Suburban', 'Urban']\n",
    "colors = ['coral', 'skyblue', 'gold']\n",
    "explode = (0,0,0.1)\n",
    "plt.pie(driver_perc, labels=types, autopct= '%1.2f%%', colors=colors, explode=explode, shadow=True, startangle=180)\n",
    "plt.axis('equal')\n",
    "plt.legend(loc = 'lower right')\n",
    "\n",
    "# Save Figure\n",
    "plt.savefig('../Images/Total Fares by City Type.png')\n",
    "plt.show()"
   ]
  },
  {
   "cell_type": "code",
   "execution_count": null,
   "metadata": {
    "scrolled": false
   },
   "outputs": [],
   "source": [
    "# Show Figure\n",
    "plt.show()"
   ]
  },
  {
   "cell_type": "code",
   "execution_count": null,
   "metadata": {
    "scrolled": true
   },
   "outputs": [],
   "source": [
    "#Data Observations\n",
    "# 1. Urban cities have the highest number of rides and pay the highest fare\n",
    "# 2. Urban cities also have the percentage of drivers\n",
    "# 3. Urban cities have nearly three times the number of drivers as suburban cities; their closest competitor"
   ]
  },
  {
   "cell_type": "code",
   "execution_count": null,
   "metadata": {},
   "outputs": [],
   "source": []
  }
 ],
 "metadata": {
  "anaconda-cloud": {},
  "kernelspec": {
   "display_name": "Python 3",
   "language": "python",
   "name": "python3"
  },
  "language_info": {
   "codemirror_mode": {
    "name": "ipython",
    "version": 3
   },
   "file_extension": ".py",
   "mimetype": "text/x-python",
   "name": "python",
   "nbconvert_exporter": "python",
   "pygments_lexer": "ipython3",
   "version": "3.7.3"
  },
  "latex_envs": {
   "LaTeX_envs_menu_present": true,
   "autoclose": false,
   "autocomplete": true,
   "bibliofile": "biblio.bib",
   "cite_by": "apalike",
   "current_citInitial": 1,
   "eqLabelWithNumbers": true,
   "eqNumInitial": 1,
   "hotkeys": {
    "equation": "Ctrl-E",
    "itemize": "Ctrl-I"
   },
   "labels_anchors": false,
   "latex_user_defs": false,
   "report_style_numbering": false,
   "user_envs_cfg": false
  }
 },
 "nbformat": 4,
 "nbformat_minor": 2
}
